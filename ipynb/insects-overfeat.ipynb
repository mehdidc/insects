{
 "cells": [
  {
   "cell_type": "code",
   "execution_count": 1,
   "metadata": {
    "collapsed": false
   },
   "outputs": [],
   "source": [
    "import time\n",
    "import os\n",
    "from collections import Counter\n",
    "\n",
    "import numpy as np\n",
    "import matplotlib.pyplot as plt\n",
    "%matplotlib inline\n",
    "\n",
    "from sklearn.ensemble import RandomForestClassifier\n",
    "from sklearn.svm import LinearSVC\n",
    "from sklearn.metrics import accuracy_score, confusion_matrix\n",
    "from sklearn.cross_validation import train_test_split, cross_val_score, StratifiedKFold\n",
    "from sklearn.preprocessing import StandardScaler\n",
    "from sklearn.metrics import classification_report\n",
    "from sklearn.base import clone"
   ]
  },
  {
   "cell_type": "markdown",
   "metadata": {},
   "source": [
    "## Load data & pre-processing"
   ]
  },
  {
   "cell_type": "code",
   "execution_count": 3,
   "metadata": {
    "collapsed": false
   },
   "outputs": [],
   "source": [
    "file_X = \"data_overfeat.npy\"\n",
    "X = np.load(file_X)\n",
    "X = StandardScaler().fit_transform(X)"
   ]
  },
  {
   "cell_type": "code",
   "execution_count": 4,
   "metadata": {
    "collapsed": false
   },
   "outputs": [],
   "source": [
    "# Load y\n",
    "file_y = \"latin_labels\" # or \"french_labels\"\n",
    "y = map(lambda l:l.decode(\"utf-8\")[0:-1], open(file_y).readlines())\n",
    "y = np.array(y, dtype='unicode')\n",
    "\n",
    "counts = Counter(y)\n",
    "classes = counts.keys()\n",
    "nb = counts.values()\n",
    "\n",
    "most_frequent_classes = map(lambda (c, n):c,\n",
    "                            sorted( zip(classes, nb), key=lambda (c, n):n, reverse=True))\n",
    "# take 5 most frequent classes\n",
    "nb_most_freq = 5\n",
    "most_frequent_classes = most_frequent_classes[0:nb_most_freq]\n",
    "\n",
    "# construct a filter of examples according to the most frequent classes\n",
    "most_freq = (y == most_frequent_classes[0])\n",
    "for c in most_frequent_classes[1:]:\n",
    "    most_freq |= (y == c)"
   ]
  },
  {
   "cell_type": "markdown",
   "metadata": {},
   "source": [
    "##Visualizations"
   ]
  },
  {
   "cell_type": "code",
   "execution_count": 5,
   "metadata": {
    "collapsed": false
   },
   "outputs": [
    {
     "data": {
      "image/png": "[encoded data removed]",
      "text/plain": [
       "<matplotlib.figure.Figure at 0xabc5034c>"
      ]
     },
     "metadata": {},
     "output_type": "display_data"
    }
   ],
   "source": [
    "counts = Counter(y)\n",
    "classes = counts.keys()\n",
    "nb = counts.values()\n",
    "\n",
    "indexes = np.arange(len(classes))\n",
    "width = 0.5\n",
    "plt.bar(indexes, nb)\n",
    "plt.xticks(indexes + width, indexes + 1)\n",
    "plt.legend\n",
    "plt.show()"
   ]
  },
  {
   "cell_type": "markdown",
   "metadata": {},
   "source": [
    "## Training"
   ]
  },
  {
   "cell_type": "code",
   "execution_count": 6,
   "metadata": {
    "collapsed": false
   },
   "outputs": [
    {
     "name": "stdout",
     "output_type": "stream",
     "text": [
      "0.671370967742\n",
      "[[1290  322  202  124   86]\n",
      " [ 126  678   38   65   21]\n",
      " [  31    9  173   16   29]\n",
      " [  13    6    7   67    4]\n",
      " [  11    6   12   13  123]]\n",
      "             precision    recall  f1-score   support\n",
      "\n",
      "Apis mellifera       0.88      0.64      0.74      2024\n",
      "     Bombus       0.66      0.73      0.70       928\n",
      "Episyrphus balteatus       0.40      0.67      0.50       258\n",
      "Neomyia, Calliphora et autres       0.24      0.69      0.35        97\n",
      "   Polistes       0.47      0.75      0.57       165\n",
      "\n",
      "avg / total       0.75      0.67      0.69      3472\n",
      "\n",
      "Training duration : 20.015070s\n",
      "0.67060518732\n",
      "[[1275  309  211  125   90]\n",
      " [ 148  697   35   61   18]\n",
      " [  37    8  169   26   30]\n",
      " [   6    6    8   69    8]\n",
      " [   4    1    8    4  117]]\n",
      "             precision    recall  f1-score   support\n",
      "\n",
      "Apis mellifera       0.87      0.63      0.73      2010\n",
      "     Bombus       0.68      0.73      0.70       959\n",
      "Episyrphus balteatus       0.39      0.63      0.48       270\n",
      "Neomyia, Calliphora et autres       0.24      0.71      0.36        97\n",
      "   Polistes       0.44      0.87      0.59       134\n",
      "\n",
      "avg / total       0.75      0.67      0.69      3470\n",
      "\n",
      "Training duration : 21.582888s\n"
     ]
    },
    {
     "ename": "MemoryError",
     "evalue": "",
     "output_type": "error",
     "traceback": [
      "\u001b[1;31m---------------------------------------------------------------------------\u001b[0m",
      "\u001b[1;31mMemoryError\u001b[0m                               Traceback (most recent call last)",
      "\u001b[1;32m<ipython-input-6-ba519016271b>\u001b[0m in \u001b[0;36m<module>\u001b[1;34m()\u001b[0m\n\u001b[0;32m      6\u001b[0m \u001b[0mscores\u001b[0m \u001b[1;33m=\u001b[0m \u001b[1;33m[\u001b[0m\u001b[1;33m]\u001b[0m\u001b[1;33m\u001b[0m\u001b[0m\n\u001b[0;32m      7\u001b[0m \u001b[1;32mfor\u001b[0m \u001b[0mtrain_index\u001b[0m\u001b[1;33m,\u001b[0m \u001b[0mtest_index\u001b[0m \u001b[1;32min\u001b[0m \u001b[0mkf\u001b[0m\u001b[1;33m:\u001b[0m\u001b[1;33m\u001b[0m\u001b[0m\n\u001b[1;32m----> 8\u001b[1;33m     \u001b[0mX_train\u001b[0m\u001b[1;33m,\u001b[0m \u001b[0my_train\u001b[0m \u001b[1;33m=\u001b[0m \u001b[0mX_\u001b[0m\u001b[1;33m[\u001b[0m\u001b[0mtrain_index\u001b[0m\u001b[1;33m]\u001b[0m\u001b[1;33m,\u001b[0m \u001b[0my_\u001b[0m\u001b[1;33m[\u001b[0m\u001b[0mtrain_index\u001b[0m\u001b[1;33m]\u001b[0m\u001b[1;33m\u001b[0m\u001b[0m\n\u001b[0m\u001b[0;32m      9\u001b[0m     \u001b[0mX_test\u001b[0m\u001b[1;33m,\u001b[0m \u001b[0my_test\u001b[0m \u001b[1;33m=\u001b[0m \u001b[0mX_\u001b[0m\u001b[1;33m[\u001b[0m\u001b[0mtest_index\u001b[0m\u001b[1;33m]\u001b[0m\u001b[1;33m,\u001b[0m \u001b[0my_\u001b[0m\u001b[1;33m[\u001b[0m\u001b[0mtest_index\u001b[0m\u001b[1;33m]\u001b[0m\u001b[1;33m\u001b[0m\u001b[0m\n\u001b[0;32m     10\u001b[0m \u001b[1;33m\u001b[0m\u001b[0m\n",
      "\u001b[1;31mMemoryError\u001b[0m: "
     ]
    }
   ],
   "source": [
    "X_, y_ = X[most_freq], y[most_freq]\n",
    "\n",
    "kf = StratifiedKFold(y_, n_folds=5)\n",
    "#model = LinearSVC(loss='l2', dual=False, tol=0.1, C=0.0001, class_weight='auto')\n",
    "model = RandomForestClassifier()\n",
    "scores = []\n",
    "for train_index, test_index in kf:\n",
    "    X_train, y_train = X_[train_index], y_[train_index]\n",
    "    X_test, y_test = X_[test_index], y_[test_index]\n",
    "    \n",
    "    clf = clone(model)\n",
    "    \n",
    "    t = time.time()\n",
    "    clf.fit(X_train, y_train)\n",
    "    duration = time.time() - t\n",
    "    \n",
    "    y_pred = clf.predict(X_test)\n",
    "    score = accuracy_score(y_pred, y_test)\n",
    "    print(score)\n",
    "    print(confusion_matrix(y_pred, y_test))\n",
    "    print(classification_report(y_pred, y_test))\n",
    "    print(\"Training duration : %fs\" % (duration,))\n",
    "    scores.append(score)"
   ]
  },
  {
   "cell_type": "code",
   "execution_count": 8,
   "metadata": {
    "collapsed": false
   },
   "outputs": [
    {
     "name": "stdout",
     "output_type": "stream",
     "text": [
      "[ 0.68179012  0.66676961  0.67964164  0.63793636  0.64524104]\n",
      "0.662275755394\n",
      "0.0178054322116\n"
     ]
    }
   ],
   "source": [
    "scores = np.array(scores)\n",
    "print(scores)\n",
    "print(scores.mean())\n",
    "print(scores.std())"
   ]
  }
 ],
 "metadata": {
  "kernelspec": {
   "display_name": "Python 2",
   "language": "python",
   "name": "python2"
  },
  "language_info": {
   "codemirror_mode": {
    "name": "ipython",
    "version": 2
   },
   "file_extension": ".py",
   "mimetype": "text/x-python",
   "name": "python",
   "nbconvert_exporter": "python",
   "pygments_lexer": "ipython2",
   "version": "2.7.10"
  }
 },
 "nbformat": 4,
 "nbformat_minor": 0
}
