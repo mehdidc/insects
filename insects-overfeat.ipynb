{
 "cells": [
  {
   "cell_type": "code",
   "execution_count": 1,
   "metadata": {
    "collapsed": false
   },
   "outputs": [],
   "source": [
    "import time\n",
    "import os\n",
    "from collections import Counter\n",
    "\n",
    "import numpy as np\n",
    "import matplotlib.pyplot as plt\n",
    "%matplotlib inline\n",
    "\n",
    "from sklearn.ensemble import RandomForestClassifier\n",
    "from sklearn.svm import LinearSVC\n",
    "from sklearn.metrics import accuracy_score, confusion_matrix\n",
    "from sklearn.cross_validation import train_test_split, cross_val_score, StratifiedKFold\n",
    "from sklearn.preprocessing import StandardScaler\n",
    "from sklearn.metrics import classification_report\n",
    "from sklearn.base import clone"
   ]
  },
  {
   "cell_type": "markdown",
   "metadata": {},
   "source": [
    "## Load data & pre-processing"
   ]
  },
  {
   "cell_type": "code",
   "execution_count": 2,
   "metadata": {
    "collapsed": false
   },
   "outputs": [],
   "source": [
    "file_X = \"data_overfeat.npy\"\n",
    "X = np.load(file_X)\n",
    "X = StandardScaler().fit_transform(X)"
   ]
  },
  {
   "cell_type": "code",
   "execution_count": 3,
   "metadata": {
    "collapsed": false
   },
   "outputs": [],
   "source": [
    "# Load y\n",
    "file_y = \"latin_labels\" # or \"french_labels\"\n",
    "y = map(lambda l:l.decode(\"utf-8\")[0:-1], open(file_y).readlines())\n",
    "y = np.array(y, dtype='unicode')\n",
    "\n",
    "counts = Counter(y)\n",
    "classes = counts.keys()\n",
    "nb = counts.values()\n",
    "\n",
    "most_frequent_classes = map(lambda (c, n):c,\n",
    "                            sorted( zip(classes, nb), key=lambda (c, n):n, reverse=True))\n",
    "# take 5 most frequent classes\n",
    "nb_most_freq = 5\n",
    "most_frequent_classes = most_frequent_classes[0:nb_most_freq]\n",
    "\n",
    "# construct a filter of examples according to the most frequent classes\n",
    "most_freq = (y == most_frequent_classes[0])\n",
    "for c in most_frequent_classes[1:]:\n",
    "    most_freq |= (y == c)"
   ]
  },
  {
   "cell_type": "markdown",
   "metadata": {},
   "source": [
    "##Visualizations"
   ]
  },
  {
   "cell_type": "code",
   "execution_count": 4,
   "metadata": {
    "collapsed": false
   },
   "outputs": [
    {
     "data": {
      "image/png": "[encoded data removed]",
      "text/plain": [
       "<matplotlib.figure.Figure at 0xabffad6c>"
      ]
     },
     "metadata": {},
     "output_type": "display_data"
    }
   ],
   "source": [
    "counts = Counter(y)\n",
    "classes = counts.keys()\n",
    "nb = counts.values()\n",
    "\n",
    "indexes = np.arange(len(classes))\n",
    "width = 0.5\n",
    "plt.bar(indexes, nb)\n",
    "plt.xticks(indexes + width, indexes + 1)\n",
    "plt.legend\n",
    "plt.show()"
   ]
  },
  {
   "cell_type": "markdown",
   "metadata": {},
   "source": [
    "## Training"
   ]
  },
  {
   "cell_type": "code",
   "execution_count": 6,
   "metadata": {
    "collapsed": false
   },
   "outputs": [
    {
     "name": "stdout",
     "output_type": "stream",
     "text": [
      "0.681790123457\n",
      "[[ 553   20   57   40  139]\n",
      " [   2  148   11   19   13]\n",
      " [   7    9   93   21   23]\n",
      " [   8   33   35  182   63]\n",
      " [ 219   53   89  170 1233]]\n",
      "             precision    recall  f1-score   support\n",
      "\n",
      "Bourdons noirs à bande(s) jaune(s) et cul blanc        0.70      0.68      0.69       809\n",
      "Guêpes Polistes        0.56      0.77      0.65       193\n",
      "Mouches aux reflets métalliques        0.33      0.61      0.42       153\n",
      "Syrphe ceinturé        0.42      0.57      0.48       321\n",
      " mellifère        0.84      0.70      0.76      1764\n",
      "\n",
      "avg / total       0.72      0.68      0.69      3240\n",
      "\n",
      "Training duration : 18.883544s\n",
      "0.666769610871\n",
      "[[ 535   33   60   32  150]\n",
      " [   5  132   15   24   14]\n",
      " [  10    7   73    9   16]\n",
      " [   9   33   30  189   60]\n",
      " [ 230   58  107  177 1230]]\n",
      "             precision    recall  f1-score   support\n",
      "\n",
      "Bourdons noirs à bande(s) jaune(s) et cul blanc        0.68      0.66      0.67       810\n",
      "Guêpes Polistes        0.50      0.69      0.58       190\n",
      "Mouches aux reflets métalliques        0.26      0.63      0.36       115\n",
      "Syrphe ceinturé        0.44      0.59      0.50       321\n",
      " mellifère        0.84      0.68      0.75      1802\n",
      "\n",
      "avg / total       0.72      0.67      0.68      3238\n",
      "\n",
      "Training duration : 19.002840s\n",
      "0.679641643497\n",
      "[[ 563   17   65   40  148]\n",
      " [   2  124    8   16    9]\n",
      " [  11   12  106   30   22]\n",
      " [   9   29   21  172   56]\n",
      " [ 203   81   85  173 1235]]\n",
      "             precision    recall  f1-score   support\n",
      "\n",
      "Bourdons noirs à bande(s) jaune(s) et cul blanc        0.71      0.68      0.69       833\n",
      "Guêpes Polistes        0.47      0.78      0.59       159\n",
      "Mouches aux reflets métalliques        0.37      0.59      0.45       181\n",
      "Syrphe ceinturé        0.40      0.60      0.48       287\n",
      " mellifère        0.84      0.69      0.76      1777\n",
      "\n",
      "avg / total       0.72      0.68      0.69      3237\n",
      "\n",
      "Training duration : 18.689283s\n",
      "0.637936360828\n",
      "[[ 481   22   55   41  180]\n",
      " [   5  136    9   29   17]\n",
      " [  17    6  110   22   35]\n",
      " [  29   27   24  158   58]\n",
      " [ 256   72   87  181 1180]]\n",
      "             precision    recall  f1-score   support\n",
      "\n",
      "Bourdons noirs à bande(s) jaune(s) et cul blanc        0.61      0.62      0.61       779\n",
      "Guêpes Polistes        0.52      0.69      0.59       196\n",
      "Mouches aux reflets métalliques        0.39      0.58      0.46       190\n",
      "Syrphe ceinturé        0.37      0.53      0.43       296\n",
      " mellifère        0.80      0.66      0.73      1776\n",
      "\n",
      "avg / total       0.67      0.64      0.65      3237\n",
      "\n",
      "Training duration : 19.169502s\n",
      "0.645241038319\n",
      "[[ 526   23   70   47  166]\n",
      " [   2  123   12   26   18]\n",
      " [  14    9   85   19   22]\n",
      " [  14   38   26  158   68]\n",
      " [ 232   69   92  181 1196]]\n",
      "             precision    recall  f1-score   support\n",
      "\n",
      "Bourdons noirs à bande(s) jaune(s) et cul blanc        0.67      0.63      0.65       832\n",
      "Guêpes Polistes        0.47      0.68      0.56       181\n",
      "Mouches aux reflets métalliques        0.30      0.57      0.39       149\n",
      "Syrphe ceinturé        0.37      0.52      0.43       304\n",
      " mellifère        0.81      0.68      0.74      1770\n",
      "\n",
      "avg / total       0.69      0.65      0.66      3236\n",
      "\n",
      "Training duration : 19.404088s\n"
     ]
    }
   ],
   "source": [
    "X_, y_ = X[most_freq], y[most_freq]\n",
    "\n",
    "kf = StratifiedKFold(y_, n_folds=5)\n",
    "#model = LinearSVC(loss='l2', dual=False, tol=0.1, C=0.0001, class_weight='auto')\n",
    "model = RandomForestClassifier()\n",
    "scores = []\n",
    "for train_index, test_index in kf:\n",
    "    X_train, y_train = X_[train_index], y_[train_index]\n",
    "    X_test, y_test = X_[test_index], y_[test_index]\n",
    "    \n",
    "    clf = clone(model)\n",
    "    \n",
    "    t = time.time()\n",
    "    clf.fit(X_train, y_train)\n",
    "    duration = time.time() - t\n",
    "    \n",
    "    y_pred = clf.predict(X_test)\n",
    "    score = accuracy_score(y_pred, y_test)\n",
    "    print(score)\n",
    "    print(confusion_matrix(y_pred, y_test))\n",
    "    print(classification_report(y_pred, y_test))\n",
    "    print(\"Training duration : %fs\" % (duration,))\n",
    "    scores.append(score)"
   ]
  },
  {
   "cell_type": "code",
   "execution_count": 8,
   "metadata": {
    "collapsed": false
   },
   "outputs": [
    {
     "name": "stdout",
     "output_type": "stream",
     "text": [
      "[ 0.68179012  0.66676961  0.67964164  0.63793636  0.64524104]\n",
      "0.662275755394\n",
      "0.0178054322116\n"
     ]
    }
   ],
   "source": [
    "scores = np.array(scores)\n",
    "print(scores)\n",
    "print(scores.mean())\n",
    "print(scores.std())"
   ]
  }
 ],
 "metadata": {
  "kernelspec": {
   "display_name": "Python 2",
   "language": "python",
   "name": "python2"
  },
  "language_info": {
   "codemirror_mode": {
    "name": "ipython",
    "version": 2
   },
   "file_extension": ".py",
   "mimetype": "text/x-python",
   "name": "python",
   "nbconvert_exporter": "python",
   "pygments_lexer": "ipython2",
   "version": "2.7.9"
  }
 },
 "nbformat": 4,
 "nbformat_minor": 0
}
